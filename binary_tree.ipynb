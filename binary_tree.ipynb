{
 "cells": [
  {
   "cell_type": "code",
   "execution_count": 2,
   "metadata": {},
   "outputs": [
    {
     "name": "stdout",
     "output_type": "stream",
     "text": [
      "Pre order Traversal: 1 2 4 3 \n",
      "In order Traversal: 4 2 1 3 \n",
      "Post order Traversal: 4 2 3 1 "
     ]
    }
   ],
   "source": [
    "# Traversing Binary Tree in Python\n",
    "\n",
    "class TreeNode:\n",
    "    def __init__(self, value):\n",
    "        self.left = None\n",
    "        self.right = None\n",
    "        self.value = value\n",
    "\n",
    "    # Traverse preorder\n",
    "    #Root-> Left subtree -> Right subtree\n",
    "    def traverse_pre_order(self):\n",
    "        \"\"\"\n",
    "        Traverse pre order tree\n",
    "        1. Visit root node\n",
    "        2. Visit all the nodes in the left subtree\n",
    "        3. Visit all the nodes in the right subtree\n",
    "        \"\"\"\n",
    "        root = self.value\n",
    "        print(root, end=' ')\n",
    "        if self.left:\n",
    "            self.left.traverse_pre_order()\n",
    "        if self.right:\n",
    "            self.right.traverse_pre_order()\n",
    "\n",
    "    # Traverse inorder\n",
    "    #Left subtree -> Root -> Right subtree\n",
    "    def traverse_in_order(self):\n",
    "        \"\"\"\n",
    "        Traverse in order tree\n",
    "        1. First, visit all the nodes in the left subtree\n",
    "        2. Then the root node\n",
    "        3. Visit all the nodes in the right subtree\n",
    "        \"\"\"\n",
    "        if self.left:\n",
    "            self.left.traverse_in_order()\n",
    "        root = self.value\n",
    "        print(root, end=' ')\n",
    "        if self.right:\n",
    "            self.right.traverse_in_order()\n",
    "\n",
    "    # Traverse postorder\n",
    "    #Left subtree-> Right subtree -> Root\n",
    "    def traverse_post_order(self):\n",
    "        \"\"\"\n",
    "        Traverse post order tree\n",
    "        1. Visit all the nodes in the left subtree\n",
    "        2. Visit all the nodes in the right subtree\n",
    "        3. Visit the root node\n",
    "        \"\"\"\n",
    "        if self.left:\n",
    "            self.left.traverse_post_order()\n",
    "        if self.right:\n",
    "            self.right.traverse_post_order()\n",
    "        root = self.value\n",
    "        print(root, end=' ')\n",
    "\n",
    "#Test case\n",
    "root = TreeNode(1)\n",
    "root.left = TreeNode(2)\n",
    "root.right = TreeNode(3)\n",
    "root.left.left = TreeNode(4)\n",
    "\n",
    "print(\"Pre order Traversal: \", end=\"\")\n",
    "root.traverse_pre_order()\n",
    "print(\"\\nIn order Traversal: \", end=\"\")\n",
    "root.traverse_in_order()\n",
    "print(\"\\nPost order Traversal: \", end=\"\")\n",
    "root.traverse_post_order()"
   ]
  }
 ],
 "metadata": {
  "kernelspec": {
   "display_name": "Python 3.6.7 64-bit",
   "language": "python",
   "name": "python3"
  },
  "language_info": {
   "codemirror_mode": {
    "name": "ipython",
    "version": 3
   },
   "file_extension": ".py",
   "mimetype": "text/x-python",
   "name": "python",
   "nbconvert_exporter": "python",
   "pygments_lexer": "ipython3",
   "version": "3.6.7"
  },
  "orig_nbformat": 4,
  "vscode": {
   "interpreter": {
    "hash": "aee8b7b246df8f9039afb4144a1f6fd8d2ca17a180786b69acc140d282b71a49"
   }
  }
 },
 "nbformat": 4,
 "nbformat_minor": 2
}
